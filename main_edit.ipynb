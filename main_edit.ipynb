{
 "cells": [
  {
   "cell_type": "code",
   "execution_count": 1,
   "metadata": {},
   "outputs": [],
   "source": [
    "import numpy as np\n",
    "from auxiliary.Model import Model"
   ]
  },
  {
   "cell_type": "code",
   "execution_count": 8,
   "metadata": {},
   "outputs": [],
   "source": [
    "deep_param = {\n",
    "    \"beta\" : 0.96,\n",
    "    \"gamma\": 0.05,\n",
    "    \"rho\" : 0.75, \n",
    "    \"sigma\" : 0.3\n",
    "}\n",
    "\n",
    "discretization_param = {\n",
    "    \"size_shock_grid\" : 4, \n",
    "    \"range_shock_grid\" : 2.575\n",
    "}\n",
    "\n",
    "approx_param = {\n",
    "    \"max_iter\" : 1000, \n",
    "    \"precision\" : 1e-7, \n",
    "    \"size_capital_grid\" : 11, \n",
    "}"
   ]
  },
  {
   "cell_type": "code",
   "execution_count": 3,
   "metadata": {},
   "outputs": [],
   "source": [
    "model = Model(deep_param, discretization_param)\n"
   ]
  },
  {
   "cell_type": "code",
   "execution_count": 13,
   "metadata": {},
   "outputs": [],
   "source": [
    "a = model._create_capital_grid(0.5,0.05, 5)"
   ]
  },
  {
   "cell_type": "code",
   "execution_count": 21,
   "metadata": {},
   "outputs": [],
   "source": [
    "b, c = a[0][[0,2]]\n"
   ]
  },
  {
   "cell_type": "code",
   "execution_count": 22,
   "metadata": {},
   "outputs": [
    {
     "data": {
      "text/plain": [
       "20.29112160566703"
      ]
     },
     "execution_count": 22,
     "metadata": {},
     "output_type": "execute_result"
    }
   ],
   "source": [
    "b"
   ]
  },
  {
   "cell_type": "code",
   "execution_count": 25,
   "metadata": {},
   "outputs": [],
   "source": [
    "a = (6*\n",
    "    7)**5"
   ]
  },
  {
   "cell_type": "code",
   "execution_count": null,
   "metadata": {},
   "outputs": [],
   "source": []
  }
 ],
 "metadata": {
  "interpreter": {
   "hash": "493e3833cf04ec743fedd6cb7e2a0d3b478aa01bc68ff285109bb179c0bc1817"
  },
  "kernelspec": {
   "display_name": "Python 3.9.7 64-bit ('student_project': conda)",
   "language": "python",
   "name": "python3"
  },
  "language_info": {
   "codemirror_mode": {
    "name": "ipython",
    "version": 3
   },
   "file_extension": ".py",
   "mimetype": "text/x-python",
   "name": "python",
   "nbconvert_exporter": "python",
   "pygments_lexer": "ipython3",
   "version": "3.9.7"
  },
  "orig_nbformat": 4
 },
 "nbformat": 4,
 "nbformat_minor": 2
}
