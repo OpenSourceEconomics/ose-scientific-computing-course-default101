{
 "cells": [
  {
   "cell_type": "markdown",
   "metadata": {},
   "source": [
    "--- \n",
    "Project for the course \"Open Source Economics\" | Winter term 2021/22, M.Sc./Ph.D. Economics, University of Bonn | [Alexandros Gilch](https://github.com/alexandrosgi)\n",
    "\n",
    "# Implementation of the course project of the Mitsui Center Summer School 2021  <a class=\"tocSkip\">   \n",
    "Ross School of Business, University of Michigan  <a class=\"tocSkip\">  \n",
    "Organizers:  <a class=\"tocSkip\">  \n",
    "Toni Whited, University of Michigan  <a class=\"tocSkip\">  \n",
    "Luke Taylor, University o Pennsylvania\n",
    "---"
   ]
  },
  {
   "cell_type": "markdown",
   "metadata": {},
   "source": [
    "### Meeting 2021/12/21 2.45 pm\n",
    "\n",
    "Questions:\n",
    "\n",
    "- theoretical background enough? Should focus rather on model or estimation method?\n",
    "- how much explanations additional to code really necessary? Rather focus on code documentation or on interpretation of results?\n",
    "- Code:\n",
    "    - Structure: Are classes the right way to go? When, when not?\n",
    "    - Should we try to use numba? Apparently we would need to go back to for-loops for that\n",
    "    - What about pandas? We do not use as much data as example project and present less of it. Also we fear performance issues. On the other hand it is nicer to handle and display.\n",
    "- In general: How much effort should go into this project? FOr us it is more like a toy project to have a base implementation of a structural model and the corresponding estimation, in order to obtain some experience for future research and the possible development of such models."
   ]
  },
  {
   "cell_type": "markdown",
   "metadata": {},
   "source": [
    "---\n",
    "# 0. Abstract \n",
    "---"
   ]
  },
  {
   "cell_type": "markdown",
   "metadata": {},
   "source": [
    "We implement the structural estimation of a workhorse model in Corporate Finance which may serve as base implementation for future developments of structural finance models and their implementation. The project is written in Python \n",
    "\n",
    "- needs to be further developed for better software structure and usage of Python/Numpy components\n",
    "- performance enhancements through better code or proper usage of code necessary\n",
    "- Results are not very surprising and primarily serve as sanity check of the implementation"
   ]
  },
  {
   "cell_type": "markdown",
   "metadata": {},
   "source": [
    "<h1>Table of Contents<span class=\"tocSkip\"></span></h1>\n",
    "<div class=\"toc\"><ul class=\"toc-item\">\n",
    "    <li><span><a href=\"#0.-Abstract\" data-toc-modified-id=\"0.-Abstract-0\">0. Abstract</a></span></li>\n",
    "    <li><span><a href=\"#1.-Introduction\" data-toc-modified-id=\"1.-Introduction-1\">1. Introduction</a></span></li>\n",
    "    <li><span><a href=\"#2.-Theoretical-Background\" data-toc-modified-id=\"2.-Theoretical-Background-2\">2. Theoretical Background: Structural Estimation</a></span></li>\n",
    "    <li><span><a href=\"#3.-Theoretical-Background\" data-toc-modified-id=\"3.-Theoretical-Background-3\">3. Theoretical Background: Corporate Finance Workhorse Model</a></span></li>\n",
    "    <li><span><a href=\"#4.-Solution\" data-toc-modified-id=\"4.-Solution-4\">4. Solving the model</a></span><ul class=\"toc-item\">\n",
    "        <li><span><a href=\"#4.1.-Solution\" data-toc-modified-id=\"4.1.-Solution-4.1\">4.1. Solution</a></span></li>\n",
    "        <li><span><a href=\"#4.2.-Implementation\" data-toc-modified-id=\"4.2.-Implementation-4.2\">4.2. Implementation</a></span></li>\n",
    "    </ul></li>\n",
    "    <li><span><a href=\"#5.-Results\" data-toc-modified-id=\"5.-Results-5\">5. Results</a></span><ul class=\"toc-item\">\n",
    "        <li><span><a href=\"#5.1.-Tests-of-the-Validity-of-the-RD-Approach\" data-toc-modified-id=\"5.1.-Tests-of-the-Validity-of-the-RD-Approach-5.1\">4.2.1. Tests of the Validity of the RD Approach</a></span></li>\n",
    "        <li><span><a href=\"#5.2.-First-Year-GPAs-and-Academic-Probation\" data-toc-modified-id=\"5.2.-First-Year-GPAs-and-Academic-Probation-5.2\">4.2.2. First Year GPAs and Academic Probation</a></span></li>\n",
    "        <li><span><a href=\"#5.3.-The-Immediate-Response-to-Academic-Probation\" data-toc-modified-id=\"5.3.-The-Immediate-Response-to-Academic-Probation-5.3\">4.2.3. The Immediate Response to Academic Probation</a></span></li>\n",
    "    </ul></li>\n",
    "    <li><span><a href=\"#6.-Conclusion\" data-toc-modified-id=\"6.-Conclusion-6\">6. Conclusion</a></span></li>\n",
    "    <li><span><a href=\"#7.-References\" data-toc-modified-id=\"7.-References-7\">7. References</a></span></li>\n",
    "</ul></div>"
   ]
  },
  {
   "cell_type": "code",
   "execution_count": 1,
   "metadata": {},
   "outputs": [],
   "source": [
    "import numpy as np\n",
    "from auxiliary.Model import Model\n",
    "from auxiliary.Sample import Sample"
   ]
  },
  {
   "cell_type": "markdown",
   "metadata": {},
   "source": [
    "---\n",
    "# 1. Introduction <a id=\"#1.-Introduction\"></a>\n",
    "---"
   ]
  },
  {
   "cell_type": "markdown",
   "metadata": {},
   "source": [
    "In the following we present the implementation as well as the results of the course project at last years Mitsui Center Summer School at the Ross School of Business, University of Michigan. The main goal of this summer school was to introduce PhD students in the fields of finance and business to some methods from the field of structural estimation and provide them the opportunity to implement these methods on their own for a workhorse model from Corporate Finance.\n",
    "\n",
    "- Structural estimation as important tool to try to identify causal relations in economic phenomenons and calculate economically relevant parameters.\n",
    "- Corp Fin model, dynamic model, basic components, requires simulation, want to estimate real economic parameters $\\alpha,\\ \\delta$\n",
    "- Preview results: Present and interpret value+policy functions, analyze strength of several moments for estimation, consider real moments, estimate models (maybe with different setups?), some robustness and confidence intervals\n",
    "\n",
    "This notebook is structured as follows: In the next section, we present the basic components necessary for the structural estimation of a generic dynamic model. In section 3, we specify the considered model and shortly describe its context in the corporate finance literature. Section 4 covers the major part of the analysis: In section 4.1, we describe the implementation of model and estimation. Section 4.2 finally continues with the results derived from the estimation. Section 5 concludes this notebook."
   ]
  },
  {
   "cell_type": "markdown",
   "metadata": {},
   "source": [
    "---\n",
    "# 2. Theoretical Background: Structural estimation \n",
    "---"
   ]
  },
  {
   "cell_type": "markdown",
   "metadata": {},
   "source": [
    "As economic researcher we are interested in understanding complex and often dynamic interactions and decisions of economic agents. For that matter, we consider a generic economic model which starts with some assumptions about agents' preferences, their possible choices and constraints, a notion of equilibrium and so on. Based on these components for which we also would like to have real world data, the model makes predictions about the relation of observable, often endogenous variables. \n",
    "\n",
    "- Assume we have a economic model --> want to model complex/dynamic interactions/decisions of agents over time\n",
    "    - agent's preferences\n",
    "    - (budget) constraints\n",
    "    - firm's prod function\n",
    "    - equilibrium, ...\n",
    "    --> want to make predictions about observable (endogenous) variables\n",
    "- SE\n",
    "    - estimate model parameter and assess model fit (using and to real data)\n",
    "    - in particular not only some correlation parameters, but \"real\" economic parameters\n",
    "- Se vs reduced-form\n",
    "    - RF: find causal effect X on Y (need correlation and exogeneity)\n",
    "    - SE: Why does X affect Y?, economic primitives not just some slopes, may construct/examine counterfactuals\n",
    "- Model for SE should be \"realistic\", more than 2 states, more than 2 periods\n",
    "- Estimators particularly include Maximum Likelihood and GMM\n",
    "- May need simulated/approximated versions if no closed-form solution exists\n",
    "- (Calibration vs SE --> not really important for this project, also I don't fully understand the difference)\n",
    "- \n",
    "- Reduced form model/estimation cannot \n",
    "- Def GMM estimator\n",
    "- Properties, advantages GMM estimator --> what is it used for?\n"
   ]
  },
  {
   "cell_type": "markdown",
   "metadata": {},
   "source": [
    "---\n",
    "# 3. Theoretical Background: Corporate Finance Workhorse Model\n",
    "---"
   ]
  },
  {
   "cell_type": "markdown",
   "metadata": {},
   "source": [
    "- firm-manager maximizes expected PV of shareholders\n",
    "- Setup\n",
    "    - infinite-horizon, discrete-time environment\n",
    "    - decreasing returns production technology generates income $zK^\\alpha$\n",
    "    - profitability shocks $z$, lognormally distributed with AR(1) process\n",
    "    - investment $I$ chosen based on standard capital stock accounting identity:\n",
    "        $K'=(1-\\delta)K+I$ \n",
    "    - firm cash flow $E^*$, shareholder cash flow $E$ is firm CF, adjusted if $E^*$ negative\n",
    "    - ==> get intertemporal firm maximization problem, given parameters $\\alpha, \\delta$\n",
    "- get some literature?\n",
    "    - who wrote it?\n",
    "    - where is it being used?\n",
    "    - what are natural applications/extensions?"
   ]
  },
  {
   "cell_type": "markdown",
   "metadata": {},
   "source": [
    "---\n",
    "# 4. Model Solution and Implementation\n",
    "---"
   ]
  },
  {
   "cell_type": "markdown",
   "metadata": {},
   "source": [
    "## 4.1 Solution methods\n",
    "- Model constitutes dynamic programming problem\n",
    "    - discretize shock and capital space\n",
    "    - value and policy function iteration to solve for optimal capital choice given any capital endowment and shock state\n",
    "    - \n",
    "- Want to estimate parameters $\\alpha, \\delta$ with GMM\n",
    "    - are interesting economic primitives and might be interesting for other models as well. Could also be compared to results from other papers\n",
    "    - need to determine moments to match\n",
    "    - model does not have closed form solution --> need to simulate time series to obtain model moments \n",
    "    - hence have MSM instead of GMM estimator\n",
    "- Data\n",
    "    - have basic data set with n firms (identified by id) for $T_i\\in\\{x\\}$ time periods (years)\n",
    "    - 2 variables provided: profitability, investment rate\n",
    "    - Provide some summary statistics of data"
   ]
  },
  {
   "cell_type": "markdown",
   "metadata": {},
   "source": [
    "## 4.2 Implementation\n",
    "- model setup, solution, simulation integrated in 1 class object\n",
    "    - object orientation as a way to better structure the code\n",
    "    - only certain functions for visualization designated for use from \"outside\"\n",
    "    - parallel creation of instances with different parameters possible to compare performances\n",
    "    - nice to have if high performance (e.g. for high accuracy or high number of simulations) not main goal\n",
    "- data usage\n",
    "    - 5 possible (reasonable) moments (generalized notion off moments): mean, var of both plus coefficients of regressing one var on the other one\n",
    "    - use demeaned data (firm and time fixed effects) "
   ]
  },
  {
   "cell_type": "markdown",
   "metadata": {},
   "source": [
    "---\n",
    "# 5. Results\n",
    "---"
   ]
  },
  {
   "cell_type": "markdown",
   "metadata": {},
   "source": [
    "## 5.1 Value and Policy functions\n",
    "- Plot value and policy function for base parametrization $\\alpha=0.5, \\delta=0.05$\n",
    "- Interpret results shortly\n",
    "    - for high productivity capital is generally higher --> firms may accumulate more capital over time\n",
    "    - capital choice: there are maximal and minimal capital choices which provide boundaries for the chosen capital in the next period\n",
    "        - These boundaries depend on the productivity shock --> low productivity leads to lower boundaries, high productivity to higher boundaries\n",
    "        - Interpretation: no matter how high the current capital, given the shock, it doesn't make sense to have more capital next period than upper bound. More capital won't be more productive than just paying out shareholders this period. On the other side, it always makes sense to achieve at least the lower bound and demand reinvestments from the shareholders.\n",
    "- Investigate changes of plots with $\\alpha, \\delta$\n",
    "    - what to do here?"
   ]
  },
  {
   "cell_type": "markdown",
   "metadata": {},
   "source": [
    "## 5.2 Identification strategy\n",
    "\n",
    "- Show visualization of sensitivities of moments to changes in $\\alpha, \\delta$\n",
    "- Interpretation\n",
    "    - Certain moments/moment combinations are better suited for GMM than others, since they don't move in the same direction\n",
    "- "
   ]
  },
  {
   "cell_type": "markdown",
   "metadata": {},
   "source": [
    "## 5.3 Comparing optimizers and robustness to noisy functions"
   ]
  },
  {
   "cell_type": "code",
   "execution_count": 2,
   "metadata": {},
   "outputs": [],
   "source": [
    "deep_param = {\n",
    "    \"beta\" : 0.96,\n",
    "    \"gamma\": 0.05, # corresponds to lambda in project description\n",
    "    \"rho\" : 0.75, \n",
    "    \"sigma\" : 0.3\n",
    "}\n",
    "\n",
    "discretization_param = {\n",
    "    \"size_shock_grid\" : 11, \n",
    "    \"range_shock_grid\" : 2.575\n",
    "}\n",
    "\n",
    "approx_param = {\n",
    "    \"max_iter\" : 1000, \n",
    "    \"precision\" : 1e-4, \n",
    "    \"size_capital_grid\" : 101, \n",
    "}\n",
    "\n",
    "sim_param = {\n",
    "    \"number_firms\" : 1000, \n",
    "    \"number_simulations_per_firm\" : 1, \n",
    "    \"number_years_per_firm\" : 10, \n",
    "    \"burnin\" : 200, \n",
    "    \"seed\" : 10082021\n",
    "}\n",
    "\n",
    "alpha_default, delta_default = 0.5190, 0.0437\n",
    "\n",
    "visualization_param = {\n",
    "    \"alpha grid bounds\" : (alpha_default-0.15, alpha_default+0.15), \n",
    "    \"delta grid bounds\" : (delta_default-0.02, delta_default+0.02),\n",
    "    \"fixed alpha\" : alpha_default, \n",
    "    \"fixed delta\" : delta_default, \n",
    "    \"parameter grid size\" : 20\n",
    "}\n",
    "\n",
    "mom_param = {\n",
    "    \"no_moments\" : 3, \n",
    "    \"no_param\" : 2,\n",
    "    }"
   ]
  },
  {
   "cell_type": "code",
   "execution_count": 3,
   "metadata": {},
   "outputs": [
    {
     "ename": "NameError",
     "evalue": "name 'Sample' is not defined",
     "output_type": "error",
     "traceback": [
      "\u001b[1;31m---------------------------------------------------------------------------\u001b[0m",
      "\u001b[1;31mNameError\u001b[0m                                 Traceback (most recent call last)",
      "\u001b[1;32m~\\AppData\\Local\\Temp/ipykernel_12912/2785824321.py\u001b[0m in \u001b[0;36m<module>\u001b[1;34m\u001b[0m\n\u001b[0;32m      1\u001b[0m \u001b[0mmodel\u001b[0m \u001b[1;33m=\u001b[0m \u001b[0mModel\u001b[0m\u001b[1;33m(\u001b[0m\u001b[0mdeep_param\u001b[0m\u001b[1;33m,\u001b[0m \u001b[0mdiscretization_param\u001b[0m\u001b[1;33m,\u001b[0m \u001b[0mapprox_param\u001b[0m\u001b[1;33m)\u001b[0m\u001b[1;33m\u001b[0m\u001b[1;33m\u001b[0m\u001b[0m\n\u001b[1;32m----> 2\u001b[1;33m \u001b[0msample\u001b[0m \u001b[1;33m=\u001b[0m \u001b[0mSample\u001b[0m\u001b[1;33m(\u001b[0m\u001b[0mmom_param\u001b[0m\u001b[1;33m)\u001b[0m\u001b[1;33m\u001b[0m\u001b[1;33m\u001b[0m\u001b[0m\n\u001b[0m",
      "\u001b[1;31mNameError\u001b[0m: name 'Sample' is not defined"
     ]
    }
   ],
   "source": [
    "model = Model(deep_param, discretization_param, approx_param)\n",
    "sample = Sample(mom_param)"
   ]
  },
  {
   "cell_type": "code",
   "execution_count": null,
   "metadata": {},
   "outputs": [],
   "source": [
    "model.visualize_model_sol(visualization_param)"
   ]
  },
  {
   "cell_type": "code",
   "execution_count": null,
   "metadata": {},
   "outputs": [],
   "source": [
    "model.visualize_simulated_capital(visualization_param, sim_param)"
   ]
  },
  {
   "cell_type": "code",
   "execution_count": null,
   "metadata": {},
   "outputs": [],
   "source": [
    "model.visualize_mom_sensitivity(visualization_param, sim_param)"
   ]
  },
  {
   "cell_type": "code",
   "execution_count": null,
   "metadata": {},
   "outputs": [],
   "source": [
    "visualize_model_fit(sample, model, alpha, delta, sim_param)"
   ]
  }
 ],
 "metadata": {
  "interpreter": {
   "hash": "493e3833cf04ec743fedd6cb7e2a0d3b478aa01bc68ff285109bb179c0bc1817"
  },
  "kernelspec": {
   "display_name": "Python 3.9.7 64-bit ('student_project': conda)",
   "language": "python",
   "name": "python3"
  },
  "language_info": {
   "codemirror_mode": {
    "name": "ipython",
    "version": 3
   },
   "file_extension": ".py",
   "mimetype": "text/x-python",
   "name": "python",
   "nbconvert_exporter": "python",
   "pygments_lexer": "ipython3",
   "version": "3.9.7"
  },
  "orig_nbformat": 4
 },
 "nbformat": 4,
 "nbformat_minor": 2
}
