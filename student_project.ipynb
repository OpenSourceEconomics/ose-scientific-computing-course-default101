{
 "cells": [
  {
   "cell_type": "code",
   "execution_count": 1,
   "id": "975b0fd8",
   "metadata": {},
   "outputs": [],
   "source": [
    "import numpy as np\n",
    "from auxiliary.tauchen import approx_markov\n",
    "from auxiliary.FirmInvestmentModel import FirmInvestmentModel, solve_model_notreshaped\n",
    "from auxiliary.helpers_plotting import line_plot, threedim_plot"
   ]
  },
  {
   "cell_type": "code",
   "execution_count": 2,
   "id": "4414ebb1",
   "metadata": {},
   "outputs": [],
   "source": [
    "# Initialization for the creation of the mgrid (that uses the not-jittable function above and hence is created outside the class def)\n",
    "seed = 10082021\n",
    "\n",
    "nz = 11         # Number of grid points for TFP\n",
    "emean = 0.0     # Mean of innovations to firm TFP\n",
    "sigma_z = 0.15  # Standard Deviations of innovations\n",
    "rho = 0.7       # TFP persistence\n",
    "multiple = 2.575 # Number of standard deviations the grid should span\n",
    "\n",
    "# Productivity shock grid and transition probability matrix\n",
    "np.random.seed(seed)\n",
    "mgrid, pr_mat_m = approx_markov(rho, sigma_z, multiple, nz)\n",
    "mgrid = np.exp(mgrid)"
   ]
  },
  {
   "cell_type": "code",
   "execution_count": 3,
   "id": "c24cff23",
   "metadata": {},
   "outputs": [],
   "source": [
    "# Test\n",
    "terry = FirmInvestmentModel(\n",
    "            alpha=0.5,          \n",
    "            delta=0.05,\n",
    "            mgrid=mgrid,\n",
    "            pr_mat_m=pr_mat_m)"
   ]
  },
  {
   "cell_type": "code",
   "execution_count": 4,
   "id": "332c8704",
   "metadata": {},
   "outputs": [
    {
     "name": "stdout",
     "output_type": "stream",
     "text": [
      "25 ( 0.0001867032661664325  error)\n",
      "\n",
      "Converged in 27  iterations.\n"
     ]
    }
   ],
   "source": [
    " # Test\n",
    " V, polind, pol, equity_iss = solve_model_notreshaped(terry)\n",
    "\n",
    " V = np.reshape(V, (terry.nz, terry.nk))\n",
    " polind = np.reshape(polind, (terry.nz, terry.nk))\n",
    " pol = np.reshape(pol, (terry.nz, terry.nk))\n",
    " equity_iss = np.reshape(equity_iss, (terry.nz, terry.nk))"
   ]
  },
  {
   "cell_type": "code",
   "execution_count": 5,
   "id": "fb246ab7",
   "metadata": {},
   "outputs": [],
   "source": [
    "\n",
    "def visualize(alpha, delta, mgrid, pr_mat_m):\n",
    "    \"\"\"\n",
    "    Visualizes the model solution (in 2D and 3D) taking alpha and delta as input for instantiating the class FirmInvestmentModel.\n",
    "\n",
    "    Input\n",
    "    -----\n",
    "    * alpha:    parameter of interest (capital's share of output)\n",
    "    * delta:    parameter of interest (depreciation rate)\n",
    "    \n",
    "    Output\n",
    "    ------\n",
    "    plots\n",
    "    \"\"\"\n",
    "    \n",
    "    # Create instance of the class FirmInvestmentModel\n",
    "    terry = FirmInvestmentModel(alpha=alpha, delta=delta, mgrid=mgrid, pr_mat_m=pr_mat_m)\n",
    "\n",
    "    # Solve the model\n",
    "    V, polind, pol, equity_iss = solve_model_notreshaped(terry)\n",
    "\n",
    "    # Reshape\n",
    "    V = np.reshape(V, (terry.nz, terry.nk))\n",
    "    polind = np.reshape(polind, (terry.nz, terry.nk))\n",
    "    pol = np.reshape(pol, (terry.nz, terry.nk))\n",
    "    equity_iss = np.reshape(equity_iss, (terry.nz, terry.nk))\n",
    "\n",
    "    # Create contour lines\n",
    "    line_plot(terry.kvec, V, terry.nz, 'Firm Capital k', 'V(z,k)', \"Firm Value, (alpha, delta) = ({}, {})\".format(alpha, delta))\n",
    "    line_plot(terry.kvec, pol, terry.nz, 'Firm Capital k', 'kprime(z,k)', \"Firm Capital Choice, (alpha, delta) = ({}, {})\".format(alpha, delta))\n",
    "    line_plot(terry.kvec, equity_iss, terry.nz, 'Firm Capital k', 'Negative Part(Equity Issuance)', \"Firm Equity Issuance, (alpha, delta) = ({}, {})\".format(alpha, delta))\n",
    "\n",
    "    # Create 3D plots\n",
    "    threedim_plot(terry.mgrid, terry.kvec, V, \"z\", \"k\", \"V(z,k)\", \"Firm Value, (alpha, delta) = ({}, {})\".format(alpha, delta))\n",
    "    threedim_plot(terry.mgrid, terry.kvec, pol, \"z\", \"k\", \"kprime(z,k)\", \"Firm Capital Choice, (alpha, delta) = ({}, {})\".format(alpha, delta))\n",
    "    threedim_plot(terry.mgrid, terry.kvec, equity_iss, \"z\", \"k\", \"Negative Part(Equity Issuance)\", \"Negative Part(Equity Issuance), (alpha, delta) = ({}, {})\".format(alpha, delta))\n",
    "    \n"
   ]
  },
  {
   "cell_type": "code",
   "execution_count": 6,
   "id": "8258623a",
   "metadata": {},
   "outputs": [
    {
     "name": "stdout",
     "output_type": "stream",
     "text": [
      "25 ( 0.0001867032661664325  error)\n",
      "\n",
      "Converged in 27  iterations.\n"
     ]
    },
    {
     "ename": "NameError",
     "evalue": "name 'nz' is not defined",
     "output_type": "error",
     "traceback": [
      "\u001b[1;31m---------------------------------------------------------------------------\u001b[0m",
      "\u001b[1;31mNameError\u001b[0m                                 Traceback (most recent call last)",
      "\u001b[1;32m~\\AppData\\Local\\Temp/ipykernel_12436/3203014319.py\u001b[0m in \u001b[0;36m<module>\u001b[1;34m\u001b[0m\n\u001b[1;32m----> 1\u001b[1;33m \u001b[0mvisualize\u001b[0m\u001b[1;33m(\u001b[0m\u001b[0malpha\u001b[0m\u001b[1;33m=\u001b[0m\u001b[1;36m0.5\u001b[0m\u001b[1;33m,\u001b[0m \u001b[0mdelta\u001b[0m\u001b[1;33m=\u001b[0m\u001b[1;36m0.05\u001b[0m\u001b[1;33m,\u001b[0m \u001b[0mmgrid\u001b[0m\u001b[1;33m=\u001b[0m\u001b[0mmgrid\u001b[0m\u001b[1;33m,\u001b[0m \u001b[0mpr_mat_m\u001b[0m\u001b[1;33m=\u001b[0m\u001b[0mpr_mat_m\u001b[0m\u001b[1;33m)\u001b[0m\u001b[1;33m\u001b[0m\u001b[1;33m\u001b[0m\u001b[0m\n\u001b[0m",
      "\u001b[1;32m~\\AppData\\Local\\Temp/ipykernel_12436/2143184911.py\u001b[0m in \u001b[0;36mvisualize\u001b[1;34m(alpha, delta, mgrid, pr_mat_m)\u001b[0m\n\u001b[0;32m     26\u001b[0m \u001b[1;33m\u001b[0m\u001b[0m\n\u001b[0;32m     27\u001b[0m     \u001b[1;31m# Create contour lines\u001b[0m\u001b[1;33m\u001b[0m\u001b[1;33m\u001b[0m\u001b[0m\n\u001b[1;32m---> 28\u001b[1;33m     \u001b[0mline_plot\u001b[0m\u001b[1;33m(\u001b[0m\u001b[0mterry\u001b[0m\u001b[1;33m.\u001b[0m\u001b[0mkvec\u001b[0m\u001b[1;33m,\u001b[0m \u001b[0mV\u001b[0m\u001b[1;33m,\u001b[0m \u001b[1;34m'Firm Capital k'\u001b[0m\u001b[1;33m,\u001b[0m \u001b[1;34m'V(z,k)'\u001b[0m\u001b[1;33m,\u001b[0m \u001b[1;34m\"Firm Value, (alpha, delta) = ({}, {})\"\u001b[0m\u001b[1;33m.\u001b[0m\u001b[0mformat\u001b[0m\u001b[1;33m(\u001b[0m\u001b[0malpha\u001b[0m\u001b[1;33m,\u001b[0m \u001b[0mdelta\u001b[0m\u001b[1;33m)\u001b[0m\u001b[1;33m)\u001b[0m\u001b[1;33m\u001b[0m\u001b[1;33m\u001b[0m\u001b[0m\n\u001b[0m\u001b[0;32m     29\u001b[0m     \u001b[0mline_plot\u001b[0m\u001b[1;33m(\u001b[0m\u001b[0mterry\u001b[0m\u001b[1;33m.\u001b[0m\u001b[0mkvec\u001b[0m\u001b[1;33m,\u001b[0m \u001b[0mpol\u001b[0m\u001b[1;33m,\u001b[0m \u001b[1;34m'Firm Capital k'\u001b[0m\u001b[1;33m,\u001b[0m \u001b[1;34m'kprime(z,k)'\u001b[0m\u001b[1;33m,\u001b[0m \u001b[1;34m\"Firm Capital Choice, (alpha, delta) = ({}, {})\"\u001b[0m\u001b[1;33m.\u001b[0m\u001b[0mformat\u001b[0m\u001b[1;33m(\u001b[0m\u001b[0malpha\u001b[0m\u001b[1;33m,\u001b[0m \u001b[0mdelta\u001b[0m\u001b[1;33m)\u001b[0m\u001b[1;33m)\u001b[0m\u001b[1;33m\u001b[0m\u001b[1;33m\u001b[0m\u001b[0m\n\u001b[0;32m     30\u001b[0m     \u001b[0mline_plot\u001b[0m\u001b[1;33m(\u001b[0m\u001b[0mterry\u001b[0m\u001b[1;33m.\u001b[0m\u001b[0mkvec\u001b[0m\u001b[1;33m,\u001b[0m \u001b[0mequity_iss\u001b[0m\u001b[1;33m,\u001b[0m \u001b[1;34m'Firm Capital k'\u001b[0m\u001b[1;33m,\u001b[0m \u001b[1;34m'Negative Part(Equity Issuance)'\u001b[0m\u001b[1;33m,\u001b[0m \u001b[1;34m\"Firm Equity Issuance, (alpha, delta) = ({}, {})\"\u001b[0m\u001b[1;33m.\u001b[0m\u001b[0mformat\u001b[0m\u001b[1;33m(\u001b[0m\u001b[0malpha\u001b[0m\u001b[1;33m,\u001b[0m \u001b[0mdelta\u001b[0m\u001b[1;33m)\u001b[0m\u001b[1;33m)\u001b[0m\u001b[1;33m\u001b[0m\u001b[1;33m\u001b[0m\u001b[0m\n",
      "\u001b[1;32mc:\\Users\\alexa\\Documents\\Bonn\\Uni\\BGSE\\Studies\\OSE\\project\\ose-scientific-computing-course-default101\\auxiliary\\helpers_plotting.py\u001b[0m in \u001b[0;36mline_plot\u001b[1;34m(x, df_y, xlabel, ylabel, title)\u001b[0m\n\u001b[0;32m      8\u001b[0m     \u001b[0mfig\u001b[0m\u001b[1;33m,\u001b[0m \u001b[0max\u001b[0m \u001b[1;33m=\u001b[0m \u001b[0mplt\u001b[0m\u001b[1;33m.\u001b[0m\u001b[0msubplots\u001b[0m\u001b[1;33m(\u001b[0m\u001b[1;33m)\u001b[0m\u001b[1;33m\u001b[0m\u001b[1;33m\u001b[0m\u001b[0m\n\u001b[0;32m      9\u001b[0m     \u001b[0max\u001b[0m\u001b[1;33m.\u001b[0m\u001b[0mplot\u001b[0m\u001b[1;33m(\u001b[0m\u001b[0mx\u001b[0m\u001b[1;33m,\u001b[0m \u001b[0mdf_y\u001b[0m\u001b[1;33m[\u001b[0m\u001b[1;36m1\u001b[0m\u001b[1;33m,\u001b[0m\u001b[1;33m:\u001b[0m\u001b[1;33m]\u001b[0m\u001b[1;33m,\u001b[0m \u001b[0mcolor\u001b[0m\u001b[1;33m=\u001b[0m\u001b[1;34m'red'\u001b[0m\u001b[1;33m,\u001b[0m \u001b[0mlabel\u001b[0m\u001b[1;33m=\u001b[0m\u001b[1;34m'low productivity shock'\u001b[0m\u001b[1;33m)\u001b[0m\u001b[1;33m\u001b[0m\u001b[1;33m\u001b[0m\u001b[0m\n\u001b[1;32m---> 10\u001b[1;33m     \u001b[0max\u001b[0m\u001b[1;33m.\u001b[0m\u001b[0mplot\u001b[0m\u001b[1;33m(\u001b[0m\u001b[0mx\u001b[0m\u001b[1;33m,\u001b[0m \u001b[0mdf_y\u001b[0m\u001b[1;33m[\u001b[0m\u001b[0mint\u001b[0m\u001b[1;33m(\u001b[0m\u001b[0mnp\u001b[0m\u001b[1;33m.\u001b[0m\u001b[0mfloor\u001b[0m\u001b[1;33m(\u001b[0m\u001b[0mnz\u001b[0m\u001b[1;33m/\u001b[0m\u001b[1;36m2\u001b[0m\u001b[1;33m)\u001b[0m\u001b[1;33m)\u001b[0m\u001b[1;33m,\u001b[0m\u001b[1;33m:\u001b[0m\u001b[1;33m]\u001b[0m\u001b[1;33m,\u001b[0m \u001b[0mcolor\u001b[0m\u001b[1;33m=\u001b[0m\u001b[1;34m'green'\u001b[0m\u001b[1;33m,\u001b[0m \u001b[0mlabel\u001b[0m\u001b[1;33m=\u001b[0m\u001b[1;34m'medium productivity shock'\u001b[0m\u001b[1;33m)\u001b[0m\u001b[1;33m\u001b[0m\u001b[1;33m\u001b[0m\u001b[0m\n\u001b[0m\u001b[0;32m     11\u001b[0m     \u001b[0max\u001b[0m\u001b[1;33m.\u001b[0m\u001b[0mplot\u001b[0m\u001b[1;33m(\u001b[0m\u001b[0mx\u001b[0m\u001b[1;33m,\u001b[0m \u001b[0mdf_y\u001b[0m\u001b[1;33m[\u001b[0m\u001b[0mnz\u001b[0m\u001b[1;33m-\u001b[0m\u001b[1;36m1\u001b[0m\u001b[1;33m,\u001b[0m\u001b[1;33m:\u001b[0m\u001b[1;33m]\u001b[0m\u001b[1;33m,\u001b[0m \u001b[0mcolor\u001b[0m\u001b[1;33m=\u001b[0m\u001b[1;34m'blue'\u001b[0m\u001b[1;33m,\u001b[0m \u001b[0mlabel\u001b[0m\u001b[1;33m=\u001b[0m\u001b[1;34m'high productivity shock'\u001b[0m\u001b[1;33m)\u001b[0m\u001b[1;33m\u001b[0m\u001b[1;33m\u001b[0m\u001b[0m\n\u001b[0;32m     12\u001b[0m     \u001b[0max\u001b[0m\u001b[1;33m.\u001b[0m\u001b[0mset_xlabel\u001b[0m\u001b[1;33m(\u001b[0m\u001b[1;34m'{}'\u001b[0m\u001b[1;33m.\u001b[0m\u001b[0mformat\u001b[0m\u001b[1;33m(\u001b[0m\u001b[0mxlabel\u001b[0m\u001b[1;33m)\u001b[0m\u001b[1;33m)\u001b[0m\u001b[1;33m\u001b[0m\u001b[1;33m\u001b[0m\u001b[0m\n",
      "\u001b[1;31mNameError\u001b[0m: name 'nz' is not defined"
     ]
    },
    {
     "data": {
      "image/png": "[encoded data removed]",
      "text/plain": [
       "<Figure size 432x288 with 1 Axes>"
      ]
     },
     "metadata": {
      "needs_background": "light"
     },
     "output_type": "display_data"
    }
   ],
   "source": [
    "visualize(alpha=0.5, delta=0.05, mgrid=mgrid, pr_mat_m=pr_mat_m)"
   ]
  },
  {
   "cell_type": "code",
   "execution_count": null,
   "id": "74f71001",
   "metadata": {},
   "outputs": [],
   "source": []
  }
 ],
 "metadata": {
  "kernelspec": {
   "display_name": "Python 3 (ipykernel)",
   "language": "python",
   "name": "python3"
  },
  "language_info": {
   "codemirror_mode": {
    "name": "ipython",
    "version": 3
   },
   "file_extension": ".py",
   "mimetype": "text/x-python",
   "name": "python",
   "nbconvert_exporter": "python",
   "pygments_lexer": "ipython3",
   "version": "3.9.7"
  }
 },
 "nbformat": 4,
 "nbformat_minor": 5
}
