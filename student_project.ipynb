{
 "cells": [
  {
   "cell_type": "code",
   "execution_count": 1,
   "id": "975b0fd8",
   "metadata": {},
   "outputs": [],
   "source": [
    "import numpy as np\n",
    "from auxiliary.tauchen import approx_markov\n",
    "from auxiliary.FirmInvestmentModel import FirmInvestmentModel"
   ]
  },
  {
   "cell_type": "code",
   "execution_count": 2,
   "id": "4414ebb1",
   "metadata": {},
   "outputs": [],
   "source": [
    "# Initialization for the creation of the mgrid (that uses the not-jittable function above and hence is created outside the class def)\n",
    "seed = 10082021\n",
    "\n",
    "nz = 11         # Number of grid points for TFP\n",
    "emean = 0.0     # Mean of innovations to firm TFP\n",
    "sigma_z = 0.15  # Standard Deviations of innovations\n",
    "rho = 0.7       # TFP persistence\n",
    "multiple = 2.575 # Number of standard deviations the grid should span\n",
    "\n",
    "# Productivity shock grid and transition probability matrix\n",
    "np.random.seed(seed)\n",
    "mgrid, pr_mat_m = approx_markov(rho, sigma_z, multiple, nz)\n",
    "mgrid = np.exp(mgrid)"
   ]
  },
  {
   "cell_type": "code",
   "execution_count": null,
   "id": "c24cff23",
   "metadata": {},
   "outputs": [],
   "source": [
    "# Test\n",
    "terry = FirmInvestmentModel(\n",
    "            alpha=0.5,          \n",
    "            delta=0.05)"
   ]
  },
  {
   "cell_type": "code",
   "execution_count": null,
   "id": "332c8704",
   "metadata": {},
   "outputs": [],
   "source": [
    " # Test\n",
    " V, polind, pol, equity_iss = solve_model_notreshaped(terry)\n",
    "\n",
    " V = np.reshape(V, (terry.nz, terry.nk))\n",
    " polind = np.reshape(polind, (terry.nz, terry.nk))\n",
    " pol = np.reshape(pol, (terry.nz, terry.nk))\n",
    " equity_iss = np.reshape(equity_iss, (terry.nz, terry.nk))"
   ]
  }
 ],
 "metadata": {
  "kernelspec": {
   "display_name": "Python 3 (ipykernel)",
   "language": "python",
   "name": "python3"
  },
  "language_info": {
   "codemirror_mode": {
    "name": "ipython",
    "version": 3
   },
   "file_extension": ".py",
   "mimetype": "text/x-python",
   "name": "python",
   "nbconvert_exporter": "python",
   "pygments_lexer": "ipython3",
   "version": "3.9.7"
  }
 },
 "nbformat": 4,
 "nbformat_minor": 5
}
